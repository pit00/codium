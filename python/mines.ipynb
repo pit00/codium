{
 "cells": [
  {
   "cell_type": "code",
   "execution_count": null,
   "id": "d94b664c",
   "metadata": {},
   "outputs": [],
   "source": [
    "\"\"\"https://exercism.org/tracks/python/exercises/minesweeper\"\"\"\n",
    "\n",
    "\n",
    "def annotate(board: list) -> list:\n",
    "    \"\"\"Count the number of mines surrounding each space\"\"\"\n",
    "    if board in ([], [\"\"]):\n",
    "        print(\"Empty board\")\n",
    "        return board\n",
    "\n",
    "    # Replace space with '0' and convert to matrix\n",
    "    matrix = [[char if char != ' ' else 0 for char in element] for element in board]\n",
    "    # matrix = [list(element) for element in board]\n",
    "\n",
    "    print(\"Initial board:\")\n",
    "    for row in matrix:\n",
    "        print(\"\".join(str(c).replace('0', '·') for c in row))\n",
    "        # print(\"\".join(str(c) for c in row))\n",
    "\n",
    "    rows_size = len(matrix)\n",
    "    cols_size = len(matrix[0])\n",
    "\n",
    "    for _, row in enumerate(matrix):\n",
    "        # Check for invalid charaters and different columns size\n",
    "        if any(char not in (0, \"*\") for char in row) or len(row) != cols_size:\n",
    "            raise ValueError(\"The board is invalid with current input.\")\n",
    "\n",
    "    for i in range(rows_size):\n",
    "        for j in range(cols_size):\n",
    "            if matrix[i][j] == '*':\n",
    "                positions = [\n",
    "                    [i - 1, j], # ←\n",
    "                    [i + 1, j], # →\n",
    "                    [i, j - 1], # ↑\n",
    "                    [i, j + 1], # ↓\n",
    "                    [i - 1, j - 1], # ↖\n",
    "                    [i - 1, j + 1], # ↗\n",
    "                    [i + 1, j - 1], # ↙\n",
    "                    [i + 1, j + 1], # ↘\n",
    "                ]\n",
    "                # Remove positions outside matrix\n",
    "                positions = [pos for pos in positions if 0 <= pos[0] < rows_size and 0 <= pos[1] < cols_size]\n",
    "\n",
    "                for k, _ in enumerate(positions):\n",
    "                    row = positions[k][0]\n",
    "                    col = positions[k][1]\n",
    "                    if matrix[row][col] != \"*\":\n",
    "                        matrix[row][col] += 1\n",
    "\n",
    "    print(\"\\nFinal board:\")\n",
    "    for row in matrix:\n",
    "        print(\"\".join(str(c).replace('0', '·') for c in row))\n",
    "\n",
    "    return [\"\".join(str(c) if c != 0 else \" \" for c in row) for row in matrix]\n"
   ]
  },
  {
   "cell_type": "code",
   "execution_count": 293,
   "id": "c229f468",
   "metadata": {},
   "outputs": [
    {
     "name": "stdout",
     "output_type": "stream",
     "text": [
      "Initial board:\n",
      "·*·*·\n",
      "··*··\n",
      "··*··\n",
      "·····\n",
      "\n",
      "Final board:\n",
      "1*3*1\n",
      "13*31\n",
      "·2*2·\n",
      "·111·\n"
     ]
    }
   ],
   "source": [
    "assert annotate([\" * * \", \"  *  \", \"  *  \", \"     \"]) == [\"1*3*1\", \"13*31\", \" 2*2 \", \" 111 \"]"
   ]
  },
  {
   "cell_type": "code",
   "execution_count": 294,
   "id": "3b8d3ba7",
   "metadata": {},
   "outputs": [
    {
     "name": "stdout",
     "output_type": "stream",
     "text": [
      "Initial board:\n",
      "***\n",
      "***\n",
      "***\n",
      "\n",
      "Final board:\n",
      "***\n",
      "***\n",
      "***\n"
     ]
    }
   ],
   "source": [
    "assert annotate([\"***\", \"***\", \"***\"]) == [\"***\", \"***\", \"***\"]"
   ]
  },
  {
   "cell_type": "code",
   "execution_count": 295,
   "id": "2b84e170",
   "metadata": {},
   "outputs": [
    {
     "name": "stdout",
     "output_type": "stream",
     "text": [
      "Initial board:\n",
      "···\n",
      "···\n",
      "···\n",
      "\n",
      "Final board:\n",
      "···\n",
      "···\n",
      "···\n"
     ]
    }
   ],
   "source": [
    "assert annotate([\"   \", \"   \", \"   \"]) == [\"   \", \"   \", \"   \"]"
   ]
  },
  {
   "cell_type": "code",
   "execution_count": 296,
   "id": "af41baad",
   "metadata": {},
   "outputs": [
    {
     "name": "stdout",
     "output_type": "stream",
     "text": [
      "Initial board:\n",
      "···\n",
      "·*·\n",
      "···\n",
      "\n",
      "Final board:\n",
      "111\n",
      "1*1\n",
      "111\n"
     ]
    }
   ],
   "source": [
    "assert annotate([\"   \", \" * \", \"   \"]) == [\"111\", \"1*1\", \"111\"]"
   ]
  },
  {
   "cell_type": "code",
   "execution_count": 297,
   "id": "227d39ef",
   "metadata": {},
   "outputs": [
    {
     "name": "stdout",
     "output_type": "stream",
     "text": [
      "Initial board:\n",
      "***\n",
      "*·*\n",
      "***\n",
      "\n",
      "Final board:\n",
      "***\n",
      "*8*\n",
      "***\n"
     ]
    }
   ],
   "source": [
    "assert annotate([\"***\", \"* *\", \"***\"]) == [\"***\", \"*8*\", \"***\"]"
   ]
  },
  {
   "cell_type": "code",
   "execution_count": 298,
   "id": "39c8142c",
   "metadata": {},
   "outputs": [
    {
     "name": "stdout",
     "output_type": "stream",
     "text": [
      "Initial board:\n",
      "·*·*·\n",
      "\n",
      "Final board:\n",
      "1*2*1\n"
     ]
    }
   ],
   "source": [
    "assert annotate([\" * * \"]) == [\"1*2*1\"]"
   ]
  },
  {
   "cell_type": "code",
   "execution_count": 299,
   "id": "8e8ff343",
   "metadata": {},
   "outputs": [
    {
     "name": "stdout",
     "output_type": "stream",
     "text": [
      "Initial board:\n",
      "*···*\n",
      "\n",
      "Final board:\n",
      "*1·1*\n"
     ]
    }
   ],
   "source": [
    "assert annotate([\"*   *\"]) == [\"*1 1*\"]"
   ]
  },
  {
   "cell_type": "code",
   "execution_count": 300,
   "id": "c448d0e9",
   "metadata": {},
   "outputs": [
    {
     "name": "stdout",
     "output_type": "stream",
     "text": [
      "Initial board:\n",
      "·\n",
      "*\n",
      "·\n",
      "*\n",
      "·\n",
      "\n",
      "Final board:\n",
      "1\n",
      "*\n",
      "2\n",
      "*\n",
      "1\n"
     ]
    }
   ],
   "source": [
    "assert annotate([\" \", \"*\", \" \", \"*\", \" \"]) == [\"1\", \"*\", \"2\", \"*\", \"1\"]"
   ]
  },
  {
   "cell_type": "code",
   "execution_count": 301,
   "id": "aa3e6252",
   "metadata": {},
   "outputs": [
    {
     "name": "stdout",
     "output_type": "stream",
     "text": [
      "Initial board:\n",
      "*\n",
      "·\n",
      "·\n",
      "·\n",
      "*\n",
      "\n",
      "Final board:\n",
      "*\n",
      "1\n",
      "·\n",
      "1\n",
      "*\n"
     ]
    }
   ],
   "source": [
    "assert annotate([\"*\", \" \", \" \", \" \", \"*\"]) == [\"*\", \"1\", \" \", \"1\", \"*\"]"
   ]
  },
  {
   "cell_type": "code",
   "execution_count": 302,
   "id": "c2af4a5a",
   "metadata": {},
   "outputs": [
    {
     "name": "stdout",
     "output_type": "stream",
     "text": [
      "Initial board:\n",
      "··*··\n",
      "··*··\n",
      "*****\n",
      "··*··\n",
      "··*··\n",
      "\n",
      "Final board:\n",
      "·2*2·\n",
      "25*52\n",
      "*****\n",
      "25*52\n",
      "·2*2·\n"
     ]
    }
   ],
   "source": [
    "assert annotate([\"  *  \", \"  *  \", \"*****\", \"  *  \", \"  *  \"]) == [\" 2*2 \", \"25*52\", \"*****\", \"25*52\", \" 2*2 \"]"
   ]
  },
  {
   "cell_type": "code",
   "execution_count": 303,
   "id": "f3c617ac",
   "metadata": {},
   "outputs": [
    {
     "name": "stdout",
     "output_type": "stream",
     "text": [
      "Initial board:\n",
      "·*··*·\n",
      "··*···\n",
      "····*·\n",
      "···*·*\n",
      "·*··*·\n",
      "······\n",
      "\n",
      "Final board:\n",
      "1*22*1\n",
      "12*322\n",
      "·123*2\n",
      "112*4*\n",
      "1*22*2\n",
      "111111\n"
     ]
    }
   ],
   "source": [
    "assert annotate([\" *  * \", \"  *   \", \"    * \", \"   * *\", \" *  * \", \"      \"]) == [\"1*22*1\", \"12*322\", \" 123*2\", \"112*4*\", \"1*22*2\", \"111111\"]"
   ]
  },
  {
   "cell_type": "code",
   "execution_count": 304,
   "id": "587adb96",
   "metadata": {},
   "outputs": [
    {
     "name": "stdout",
     "output_type": "stream",
     "text": [
      "Initial board:\n",
      "·····\n",
      "···*·\n",
      "·····\n",
      "·····\n",
      "·*···\n",
      "\n",
      "Final board:\n",
      "··111\n",
      "··1*1\n",
      "··111\n",
      "111··\n",
      "1*1··\n"
     ]
    }
   ],
   "source": [
    "assert annotate([\"     \", \"   * \", \"     \", \"     \", \" *   \"]) == [\"  111\", \"  1*1\", \"  111\", \"111  \", \"1*1  \"]"
   ]
  },
  {
   "cell_type": "code",
   "execution_count": 305,
   "id": "d037716f",
   "metadata": {},
   "outputs": [
    {
     "name": "stdout",
     "output_type": "stream",
     "text": [
      "Empty board\n"
     ]
    }
   ],
   "source": [
    "assert annotate([]) == []"
   ]
  },
  {
   "cell_type": "code",
   "execution_count": 306,
   "id": "2b33c082",
   "metadata": {},
   "outputs": [
    {
     "name": "stdout",
     "output_type": "stream",
     "text": [
      "Empty board\n"
     ]
    }
   ],
   "source": [
    "assert annotate([\"\"]) == [\"\"]"
   ]
  },
  {
   "cell_type": "code",
   "execution_count": 307,
   "id": "0ea03e39",
   "metadata": {},
   "outputs": [
    {
     "name": "stdout",
     "output_type": "stream",
     "text": [
      "Initial board:\n",
      "·\n",
      "*··\n",
      "··\n",
      "\n",
      "The board is invalid with current input.\n"
     ]
    }
   ],
   "source": [
    "try:\n",
    "    annotate([\" \", \"*  \", \"  \"])\n",
    "    assert [], \"Expected ValueError\"\n",
    "except ValueError as e:\n",
    "    print(\"\\n\" + str(e))\n",
    "    assert str(e) == \"The board is invalid with current input.\""
   ]
  },
  {
   "cell_type": "code",
   "execution_count": 308,
   "id": "4b1f3eaa",
   "metadata": {},
   "outputs": [
    {
     "name": "stdout",
     "output_type": "stream",
     "text": [
      "Initial board:\n",
      "X··*·\n",
      "\n",
      "The board is invalid with current input.\n"
     ]
    }
   ],
   "source": [
    "try:\n",
    "    annotate([\"X  * \"])\n",
    "    assert [], \"Expected ValueError\"\n",
    "except ValueError as e:\n",
    "    print(\"\\n\" + str(e))\n",
    "    assert str(e) == \"The board is invalid with current input.\""
   ]
  }
 ],
 "metadata": {
  "kernelspec": {
   "display_name": "Python 3",
   "language": "python",
   "name": "python3"
  },
  "language_info": {
   "codemirror_mode": {
    "name": "ipython",
    "version": 3
   },
   "file_extension": ".py",
   "mimetype": "text/x-python",
   "name": "python",
   "nbconvert_exporter": "python",
   "pygments_lexer": "ipython3",
   "version": "3.11.9"
  }
 },
 "nbformat": 4,
 "nbformat_minor": 5
}
