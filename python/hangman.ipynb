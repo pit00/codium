{
 "cells": [
  {
   "cell_type": "code",
   "execution_count": 82,
   "id": "990b2662",
   "metadata": {},
   "outputs": [],
   "source": [
    "\"\"\"https://exercism.org/tracks/python/exercises/hangman\"\"\"\n",
    "\n",
    "\n",
    "# Game status categories\n",
    "# Change the values as you see fit\n",
    "STATUS_WIN = 'win'\n",
    "STATUS_LOSE = 'lose'\n",
    "STATUS_ONGOING = 'ongoing'\n",
    "\n",
    "class Hangman:\n",
    "    \"\"\"Hangman game\"\"\"\n",
    "    def __init__(self, word):\n",
    "        self.word = word\n",
    "        self.mask = \"_\" * len(word)\n",
    "        self.remaining_guesses = 9\n",
    "        self.status = STATUS_ONGOING\n",
    "\n",
    "    def guess(self, char):\n",
    "        \"\"\"Game loop\"\"\"\n",
    "        if self.status != STATUS_ONGOING:\n",
    "            raise ValueError(\"The game has already ended.\")\n",
    "\n",
    "        if char in self.mask:\n",
    "            self.remaining_guesses -= 1\n",
    "        elif char in self.word:\n",
    "            # print(self.word.index(char))\n",
    "            indexes = [i for i, c in enumerate(self.word) if c == char]\n",
    "            self.mask = \"\".join(\n",
    "                char if idx in indexes else c\n",
    "                for idx, c in enumerate(self.mask)\n",
    "            )\n",
    "            if '_' not in self.mask:\n",
    "                self.status = STATUS_WIN\n",
    "                # print(self.status)\n",
    "        else:\n",
    "            if self.remaining_guesses <= 0:\n",
    "                self.status = STATUS_LOSE\n",
    "            self.remaining_guesses -= 1\n",
    "    # else:\n",
    "    #     print(self.status)\n",
    "\n",
    "    def get_masked_word(self):\n",
    "        \"\"\"Print word\"\"\"\n",
    "        return self.mask\n",
    "\n",
    "    def get_status(self):\n",
    "        \"\"\"Game status\"\"\"\n",
    "        return self.status"
   ]
  },
  {
   "cell_type": "code",
   "execution_count": 83,
   "id": "7d60c384",
   "metadata": {},
   "outputs": [],
   "source": [
    "game = Hangman('foo')\n",
    "assert game.get_status() == STATUS_ONGOING\n",
    "assert game.remaining_guesses == 9"
   ]
  },
  {
   "cell_type": "code",
   "execution_count": 84,
   "id": "f8c00348",
   "metadata": {},
   "outputs": [],
   "source": [
    "game = Hangman('foo')\n",
    "assert game.get_masked_word() == '___'"
   ]
  },
  {
   "cell_type": "code",
   "execution_count": 85,
   "id": "ba1a984e",
   "metadata": {},
   "outputs": [],
   "source": [
    "game = Hangman('foo')\n",
    "\n",
    "for i in range(10):\n",
    "    game.guess('x')\n",
    "\n",
    "assert game.get_status() == STATUS_LOSE\n",
    "\n",
    "try:\n",
    "    game.guess('x')\n",
    "    assert False, \"Expected ValueError\"\n",
    "except ValueError as e:\n",
    "    assert str(e) == \"The game has already ended.\""
   ]
  },
  {
   "cell_type": "code",
   "execution_count": 86,
   "id": "75037baf",
   "metadata": {},
   "outputs": [],
   "source": [
    "game = Hangman('foobar')\n",
    "\n",
    "game.guess('b')\n",
    "assert game.get_status() == STATUS_ONGOING\n",
    "assert game.remaining_guesses == 9\n",
    "assert game.get_masked_word() == '___b__'\n",
    "\n",
    "game.guess('o')\n",
    "assert game.get_status() == STATUS_ONGOING\n",
    "assert game.remaining_guesses == 9\n",
    "assert game.get_masked_word() == '_oob__'"
   ]
  },
  {
   "cell_type": "code",
   "execution_count": 87,
   "id": "63097df3",
   "metadata": {},
   "outputs": [],
   "source": [
    "game = Hangman('foobar')\n",
    "\n",
    "game.guess('b')\n",
    "assert game.get_status() == STATUS_ONGOING\n",
    "assert game.remaining_guesses == 9\n",
    "assert game.get_masked_word() == '___b__'\n",
    "\n",
    "game.guess('b')\n",
    "assert game.get_status() == STATUS_ONGOING\n",
    "assert game.remaining_guesses == 8\n",
    "assert game.get_masked_word() == '___b__'"
   ]
  },
  {
   "cell_type": "code",
   "execution_count": 88,
   "id": "59aa8ecb",
   "metadata": {},
   "outputs": [],
   "source": [
    "game = Hangman('hello')\n",
    "\n",
    "game.guess('b')\n",
    "assert game.get_status() == STATUS_ONGOING\n",
    "assert game.remaining_guesses == 8\n",
    "assert game.get_masked_word() == '_____'\n",
    "\n",
    "game.guess('e')\n",
    "assert game.get_status() == STATUS_ONGOING\n",
    "assert game.remaining_guesses == 8\n",
    "assert game.get_masked_word() == '_e___'\n",
    "\n",
    "game.guess('l')\n",
    "assert game.get_status() == STATUS_ONGOING\n",
    "assert game.remaining_guesses == 8\n",
    "assert game.get_masked_word() == '_ell_'\n",
    "\n",
    "game.guess('o')\n",
    "assert game.get_status() == STATUS_ONGOING\n",
    "assert game.remaining_guesses == 8\n",
    "assert game.get_masked_word() == '_ello'\n",
    "\n",
    "game.guess('h')\n",
    "assert game.get_status() == STATUS_WIN\n",
    "assert game.get_masked_word() == 'hello'\n",
    "\n",
    "try:\n",
    "    game.guess('x')\n",
    "    assert False, \"Expected ValueError\"\n",
    "except ValueError as e:\n",
    "    assert str(e) == \"The game has already ended.\""
   ]
  },
  {
   "cell_type": "code",
   "execution_count": 89,
   "id": "b54381f0",
   "metadata": {},
   "outputs": [],
   "source": [
    "game = Hangman('aaa')\n",
    "for ch in 'bcdefghij':\n",
    "    game.guess(ch)\n",
    "game.guess('a')\n",
    "assert game.remaining_guesses == 0\n",
    "assert game.get_status() == STATUS_WIN\n",
    "assert game.get_masked_word() == 'aaa'"
   ]
  }
 ],
 "metadata": {
  "kernelspec": {
   "display_name": "Python 3",
   "language": "python",
   "name": "python3"
  },
  "language_info": {
   "codemirror_mode": {
    "name": "ipython",
    "version": 3
   },
   "file_extension": ".py",
   "mimetype": "text/x-python",
   "name": "python",
   "nbconvert_exporter": "python",
   "pygments_lexer": "ipython3",
   "version": "3.11.9"
  }
 },
 "nbformat": 4,
 "nbformat_minor": 5
}
