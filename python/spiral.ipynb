{
 "cells": [
  {
   "cell_type": "code",
   "execution_count": 1,
   "id": "45a7368d",
   "metadata": {},
   "outputs": [],
   "source": [
    "\"\"\"https://exercism.org/tracks/python/exercises/spiral-matrix\"\"\"\n",
    "\n",
    "\n",
    "def spiral_aux(matrix, base, size, counter):\n",
    "    \"\"\"Border path\"\"\"\n",
    "\n",
    "    # →\n",
    "    for i in range(size):\n",
    "        if matrix[base][i] == 0:\n",
    "            matrix[base][i] = counter\n",
    "            counter += 1\n",
    "\n",
    "    # ↓\n",
    "    for i in range(size):\n",
    "        if matrix[i][size - 1] == 0:\n",
    "            matrix[i][size - 1] = counter\n",
    "            counter += 1\n",
    "\n",
    "    # ←\n",
    "    for i in reversed(range(size)):\n",
    "        if matrix[size - 1][i] == 0:\n",
    "            matrix[size - 1][i] = counter\n",
    "            counter += 1\n",
    "\n",
    "    # ↑\n",
    "    for i in reversed(range(size)):\n",
    "        if matrix[i][base] == 0:\n",
    "            matrix[i][base] = counter\n",
    "            counter += 1\n",
    "\n",
    "    return(matrix, counter)\n",
    "\n",
    "\n",
    "def spiral_matrix(size):\n",
    "    \"\"\"Clockwise ascending matrix\"\"\"\n",
    "    if size < 1:\n",
    "        return None\n",
    "\n",
    "    # matrix = [[0] * size] * size\n",
    "    matrix = [[0] * size for _ in range(size)]\n",
    "    size = len(matrix[0])\n",
    "\n",
    "    counter = 1\n",
    "    base = 0\n",
    "    loop = 0\n",
    "\n",
    "    while any(0 in row for row in matrix):\n",
    "        matrix, counter = spiral_aux(matrix, base + loop, size - loop, counter)\n",
    "        loop += 1\n",
    "\n",
    "    for row in matrix:\n",
    "        print(\" \".join(f\"{x:02d}\" for x in row))\n",
    "\n",
    "    return matrix"
   ]
  },
  {
   "cell_type": "code",
   "execution_count": 2,
   "id": "8a82bd0e",
   "metadata": {},
   "outputs": [],
   "source": [
    "assert not spiral_matrix(0)"
   ]
  },
  {
   "cell_type": "code",
   "execution_count": 3,
   "id": "ac950b78",
   "metadata": {},
   "outputs": [
    {
     "name": "stdout",
     "output_type": "stream",
     "text": [
      "01\n"
     ]
    }
   ],
   "source": [
    "assert spiral_matrix(1) == [[1]]"
   ]
  },
  {
   "cell_type": "code",
   "execution_count": 4,
   "id": "e1621e5f",
   "metadata": {},
   "outputs": [
    {
     "name": "stdout",
     "output_type": "stream",
     "text": [
      "01 02\n",
      "04 03\n"
     ]
    }
   ],
   "source": [
    "assert spiral_matrix(2) == [[1, 2], [4, 3]]"
   ]
  },
  {
   "cell_type": "code",
   "execution_count": 5,
   "id": "7a7fc3fb",
   "metadata": {},
   "outputs": [
    {
     "name": "stdout",
     "output_type": "stream",
     "text": [
      "01 02 03\n",
      "08 09 04\n",
      "07 06 05\n"
     ]
    }
   ],
   "source": [
    "assert spiral_matrix(3) == [[1, 2, 3], [8, 9, 4], [7, 6, 5]]"
   ]
  },
  {
   "cell_type": "code",
   "execution_count": 6,
   "id": "8f924f39",
   "metadata": {},
   "outputs": [
    {
     "name": "stdout",
     "output_type": "stream",
     "text": [
      "01 02 03 04\n",
      "12 13 14 05\n",
      "11 16 15 06\n",
      "10 09 08 07\n"
     ]
    }
   ],
   "source": [
    "assert spiral_matrix(4) == [[1, 2, 3, 4], [12, 13, 14, 5], [11, 16, 15, 6], [10, 9, 8, 7]]"
   ]
  },
  {
   "cell_type": "code",
   "execution_count": 7,
   "id": "c795a751",
   "metadata": {},
   "outputs": [
    {
     "name": "stdout",
     "output_type": "stream",
     "text": [
      "01 02 03 04 05\n",
      "16 17 18 19 06\n",
      "15 24 25 20 07\n",
      "14 23 22 21 08\n",
      "13 12 11 10 09\n"
     ]
    }
   ],
   "source": [
    "assert spiral_matrix(5) == [[1, 2, 3, 4, 5], [16, 17, 18, 19, 6], [15, 24, 25, 20, 7], [14, 23, 22, 21, 8], [13, 12, 11, 10, 9]]"
   ]
  }
 ],
 "metadata": {
  "kernelspec": {
   "display_name": "Python 3",
   "language": "python",
   "name": "python3"
  },
  "language_info": {
   "codemirror_mode": {
    "name": "ipython",
    "version": 3
   },
   "file_extension": ".py",
   "mimetype": "text/x-python",
   "name": "python",
   "nbconvert_exporter": "python",
   "pygments_lexer": "ipython3",
   "version": "3.11.9"
  }
 },
 "nbformat": 4,
 "nbformat_minor": 5
}
