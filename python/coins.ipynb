{
 "cells": [
  {
   "cell_type": "code",
   "execution_count": 9,
   "id": "dcc6e048",
   "metadata": {},
   "outputs": [],
   "source": [
    "\"\"\"https://projecteuler.net/problem=31\"\"\"\n",
    "\n",
    "\n",
    "def solver(goal) -> int:\n",
    "    \"\"\"Combinations of money to sum the goal (dynamic)\"\"\"\n",
    "    coins = [1, 2, 5, 10, 20, 50, 100, 200]\n",
    "    ways = [0] * (goal + 1)  # list of 0\n",
    "    ways[0] = 1\n",
    "\n",
    "    for coin in coins:\n",
    "        for i in range(coin, goal + 1):\n",
    "            ways[i]+=ways[i - coin]\n",
    "\n",
    "    return ways[goal]"
   ]
  },
  {
   "cell_type": "code",
   "execution_count": 10,
   "id": "6bd7d19f",
   "metadata": {},
   "outputs": [],
   "source": [
    "assert solver(5) == 4"
   ]
  },
  {
   "cell_type": "code",
   "execution_count": 11,
   "id": "e33ff0e3",
   "metadata": {},
   "outputs": [],
   "source": [
    "assert solver(10) == 11"
   ]
  },
  {
   "cell_type": "code",
   "execution_count": 12,
   "id": "07bb7531",
   "metadata": {},
   "outputs": [],
   "source": [
    "assert solver(17) == 28"
   ]
  },
  {
   "cell_type": "code",
   "execution_count": 13,
   "id": "30680f82",
   "metadata": {},
   "outputs": [],
   "source": [
    "assert solver(25) == 68"
   ]
  },
  {
   "cell_type": "code",
   "execution_count": 14,
   "id": "8eb339f2",
   "metadata": {},
   "outputs": [],
   "source": [
    "assert solver(50) == 451"
   ]
  },
  {
   "cell_type": "code",
   "execution_count": 15,
   "id": "868584da",
   "metadata": {},
   "outputs": [],
   "source": [
    "assert solver(100) == 4563"
   ]
  },
  {
   "cell_type": "code",
   "execution_count": 16,
   "id": "e0a7e289",
   "metadata": {},
   "outputs": [],
   "source": [
    "assert solver(200) == 73682"
   ]
  }
 ],
 "metadata": {
  "kernelspec": {
   "display_name": "Python 3",
   "language": "python",
   "name": "python3"
  },
  "language_info": {
   "codemirror_mode": {
    "name": "ipython",
    "version": 3
   },
   "file_extension": ".py",
   "mimetype": "text/x-python",
   "name": "python",
   "nbconvert_exporter": "python",
   "pygments_lexer": "ipython3",
   "version": "3.11.9"
  }
 },
 "nbformat": 4,
 "nbformat_minor": 5
}
