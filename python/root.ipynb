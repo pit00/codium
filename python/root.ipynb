{
 "cells": [
  {
   "cell_type": "code",
   "execution_count": 9,
   "id": "eefca9a5",
   "metadata": {},
   "outputs": [],
   "source": [
    "\"\"\"https://exercism.org/tracks/python/exercises/square-root\"\"\"\n",
    "\n",
    "from math import sqrt\n",
    "\n",
    "\n",
    "def square_root(number, max_try=1000) -> int | None:\n",
    "    \"\"\"Square root calculation by binary approach\"\"\"\n",
    "    l = 0\n",
    "    r = number + 1\n",
    "    step = 0\n",
    "    while l != r - 1:\n",
    "        m = (l + r) / 2\n",
    "\n",
    "        step += 1\n",
    "        result = int(round(m))\n",
    "        if result == sqrt(number):\n",
    "            print(\"Found in \" + str(step) + \" step(s)\")\n",
    "            return result\n",
    "        if step == max_try:\n",
    "            raise ValueError(f\"Not found in {step} step(s)\")\n",
    "\n",
    "        if m * m <= number:\n",
    "            l = m\n",
    "        else:\n",
    "            r = m\n",
    "    return None"
   ]
  },
  {
   "cell_type": "code",
   "execution_count": 10,
   "id": "2c0d2d53",
   "metadata": {},
   "outputs": [
    {
     "name": "stdout",
     "output_type": "stream",
     "text": [
      "Found in 1 step(s)\n"
     ]
    }
   ],
   "source": [
    "assert square_root(1) == 1"
   ]
  },
  {
   "cell_type": "code",
   "execution_count": 11,
   "id": "e039e4da",
   "metadata": {},
   "outputs": [
    {
     "name": "stdout",
     "output_type": "stream",
     "text": [
      "Found in 1 step(s)\n"
     ]
    }
   ],
   "source": [
    "assert square_root(4) == 2"
   ]
  },
  {
   "cell_type": "code",
   "execution_count": 12,
   "id": "bc6c9fad",
   "metadata": {},
   "outputs": [
    {
     "name": "stdout",
     "output_type": "stream",
     "text": [
      "Found in 4 step(s)\n"
     ]
    }
   ],
   "source": [
    "assert square_root(25) == 5"
   ]
  },
  {
   "cell_type": "code",
   "execution_count": 13,
   "id": "8fa705a4",
   "metadata": {},
   "outputs": [
    {
     "name": "stdout",
     "output_type": "stream",
     "text": [
      "Found in 6 step(s)\n"
     ]
    }
   ],
   "source": [
    "assert square_root(81) == 9"
   ]
  },
  {
   "cell_type": "code",
   "execution_count": 14,
   "id": "fe871dfd",
   "metadata": {},
   "outputs": [
    {
     "name": "stdout",
     "output_type": "stream",
     "text": [
      "Found in 7 step(s)\n"
     ]
    }
   ],
   "source": [
    "assert square_root(196) == 14"
   ]
  },
  {
   "cell_type": "code",
   "execution_count": 15,
   "id": "48ace125",
   "metadata": {},
   "outputs": [
    {
     "name": "stdout",
     "output_type": "stream",
     "text": [
      "Found in 16 step(s)\n"
     ]
    }
   ],
   "source": [
    "assert square_root(65025) == 255"
   ]
  },
  {
   "cell_type": "code",
   "execution_count": 16,
   "id": "a9f4f5d5",
   "metadata": {},
   "outputs": [
    {
     "name": "stdout",
     "output_type": "stream",
     "text": [
      "\n",
      "Not found in 1000 step(s)\n"
     ]
    }
   ],
   "source": [
    "try:\n",
    "    square_root(50)\n",
    "    assert False, \"Expected ValueError\"\n",
    "except ValueError as e:\n",
    "    print(\"\\n\" + str(e))\n",
    "    assert str(e) == f\"Not found in 1000 step(s)\""
   ]
  }
 ],
 "metadata": {
  "kernelspec": {
   "display_name": "Python 3",
   "language": "python",
   "name": "python3"
  },
  "language_info": {
   "codemirror_mode": {
    "name": "ipython",
    "version": 3
   },
   "file_extension": ".py",
   "mimetype": "text/x-python",
   "name": "python",
   "nbconvert_exporter": "python",
   "pygments_lexer": "ipython3",
   "version": "3.11.9"
  }
 },
 "nbformat": 4,
 "nbformat_minor": 5
}
