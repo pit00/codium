{
 "cells": [
  {
   "cell_type": "code",
   "execution_count": 1,
   "id": "d28139a3",
   "metadata": {},
   "outputs": [],
   "source": [
    "\"\"\"https://exercism.org/tracks/python/exercises/saddle-points\"\"\"\n",
    "\n",
    "\n",
    "def saddle_points(trees):\n",
    "    \"\"\"Find the best position (lowest row, highest col)\"\"\"\n",
    "\n",
    "    for row in trees:\n",
    "        # Check different columns size\n",
    "        if len(row) != len(trees[0]):\n",
    "            raise ValueError(\"irregular matrix\")\n",
    "\n",
    "    # transposed and unpacked (list of tuples)\n",
    "    trees_t = list(zip(*trees))\n",
    "\n",
    "    best_trees = []\n",
    "    for i, rows in enumerate(trees):\n",
    "        max_value = max(rows)\n",
    "        for j, cols in enumerate(trees_t):\n",
    "            min_value = min(cols)\n",
    "            if max_value == min_value:\n",
    "                # print(max_value)\n",
    "                print(\"\\nTree: \" + str(max_value))\n",
    "                print(\"Row: \" + str(i + 1))\n",
    "                print(\"Column: \" + str(j + 1))\n",
    "                best_trees.append([min_value, i, j])\n",
    "                # print(min_value, i, j)\n",
    "\n",
    "    if not best_trees:\n",
    "        print(\"No optimal trees found!\")\n",
    "    return best_trees"
   ]
  },
  {
   "cell_type": "code",
   "execution_count": 2,
   "id": "aba76eee",
   "metadata": {},
   "outputs": [
    {
     "name": "stdout",
     "output_type": "stream",
     "text": [
      "\n",
      "Tree: 5\n",
      "Row: 2\n",
      "Column: 1\n"
     ]
    }
   ],
   "source": [
    "assert saddle_points([[9, 8, 7, 8], [5, 3, 2, 4], [6, 6, 7, 1]]) == [[5, 1, 0]]"
   ]
  },
  {
   "cell_type": "code",
   "execution_count": 3,
   "id": "2bbb77cd",
   "metadata": {},
   "outputs": [
    {
     "name": "stdout",
     "output_type": "stream",
     "text": [
      "\n",
      "Tree: 5\n",
      "Row: 2\n",
      "Column: 1\n"
     ]
    }
   ],
   "source": [
    "assert saddle_points([[9, 8, 7], [5, 3, 2], [6, 6, 7]]) == [[5, 1, 0]]"
   ]
  },
  {
   "cell_type": "code",
   "execution_count": 4,
   "id": "ea4e6291",
   "metadata": {},
   "outputs": [
    {
     "name": "stdout",
     "output_type": "stream",
     "text": [
      "No optimal trees found!\n"
     ]
    }
   ],
   "source": [
    "assert not saddle_points([])"
   ]
  },
  {
   "cell_type": "code",
   "execution_count": 5,
   "id": "9d30aa2d",
   "metadata": {},
   "outputs": [
    {
     "name": "stdout",
     "output_type": "stream",
     "text": [
      "No optimal trees found!\n"
     ]
    }
   ],
   "source": [
    "assert not saddle_points([[1, 2, 3], [3, 1, 2], [2, 3, 1]])"
   ]
  },
  {
   "cell_type": "code",
   "execution_count": 6,
   "id": "8aac2c05",
   "metadata": {},
   "outputs": [
    {
     "name": "stdout",
     "output_type": "stream",
     "text": [
      "\n",
      "Tree: 5\n",
      "Row: 1\n",
      "Column: 2\n",
      "\n",
      "Tree: 5\n",
      "Row: 2\n",
      "Column: 2\n",
      "\n",
      "Tree: 5\n",
      "Row: 3\n",
      "Column: 2\n"
     ]
    }
   ],
   "source": [
    "assert saddle_points([[4, 5, 4], [3, 5, 5], [1, 5, 4]]) == [[5, 0, 1], [5, 1, 1], [5, 2, 1]]"
   ]
  },
  {
   "cell_type": "code",
   "execution_count": 7,
   "id": "ca61ae76",
   "metadata": {},
   "outputs": [
    {
     "name": "stdout",
     "output_type": "stream",
     "text": [
      "\n",
      "Tree: 5\n",
      "Row: 2\n",
      "Column: 1\n",
      "\n",
      "Tree: 5\n",
      "Row: 2\n",
      "Column: 2\n",
      "\n",
      "Tree: 5\n",
      "Row: 2\n",
      "Column: 3\n"
     ]
    }
   ],
   "source": [
    "assert saddle_points([[6, 7, 8], [5, 5, 5], [7, 5, 6]]) == [[5, 1, 0], [5, 1, 1], [5, 1, 2]]"
   ]
  },
  {
   "cell_type": "code",
   "execution_count": 8,
   "id": "c04d7324",
   "metadata": {},
   "outputs": [
    {
     "name": "stdout",
     "output_type": "stream",
     "text": [
      "\n",
      "Tree: 5\n",
      "Row: 3\n",
      "Column: 3\n"
     ]
    }
   ],
   "source": [
    "assert saddle_points([[8, 7, 9], [6, 7, 6], [3, 2, 5]]) == [[5, 2, 2]]"
   ]
  },
  {
   "cell_type": "code",
   "execution_count": 9,
   "id": "f2d9c857",
   "metadata": {},
   "outputs": [
    {
     "name": "stdout",
     "output_type": "stream",
     "text": [
      "\n",
      "Tree: 3\n",
      "Row: 1\n",
      "Column: 1\n",
      "\n",
      "Tree: 3\n",
      "Row: 1\n",
      "Column: 3\n"
     ]
    }
   ],
   "source": [
    "assert saddle_points([[3, 1, 3], [3, 2, 4]]) == [[3, 0, 0], [3, 0, 2]]"
   ]
  },
  {
   "cell_type": "code",
   "execution_count": 10,
   "id": "6b1d8ffd",
   "metadata": {},
   "outputs": [
    {
     "name": "stdout",
     "output_type": "stream",
     "text": [
      "\n",
      "Tree: 1\n",
      "Row: 2\n",
      "Column: 1\n",
      "\n",
      "Tree: 1\n",
      "Row: 4\n",
      "Column: 1\n"
     ]
    }
   ],
   "source": [
    "assert saddle_points([[2], [1], [4], [1]]) == [[1, 1, 0], [1, 3, 0]]"
   ]
  },
  {
   "cell_type": "code",
   "execution_count": 11,
   "id": "67f63aa8",
   "metadata": {},
   "outputs": [
    {
     "name": "stdout",
     "output_type": "stream",
     "text": [
      "\n",
      "Tree: 5\n",
      "Row: 1\n",
      "Column: 2\n",
      "\n",
      "Tree: 5\n",
      "Row: 1\n",
      "Column: 4\n"
     ]
    }
   ],
   "source": [
    "assert saddle_points([[2, 5, 3, 5]]) == [[5, 0, 1], [5, 0, 3]]"
   ]
  },
  {
   "cell_type": "code",
   "execution_count": 12,
   "id": "4eb0531f",
   "metadata": {},
   "outputs": [
    {
     "name": "stdout",
     "output_type": "stream",
     "text": [
      "irregular matrix\n"
     ]
    }
   ],
   "source": [
    "try:\n",
    "    saddle_points([[3, 2, 1], [0, 1], [2, 1, 0]])\n",
    "    assert [], \"Expected ValueError\"\n",
    "except ValueError as e:\n",
    "    print(str(e))\n",
    "    assert str(e) == \"irregular matrix\""
   ]
  }
 ],
 "metadata": {
  "kernelspec": {
   "display_name": "Python 3",
   "language": "python",
   "name": "python3"
  },
  "language_info": {
   "codemirror_mode": {
    "name": "ipython",
    "version": 3
   },
   "file_extension": ".py",
   "mimetype": "text/x-python",
   "name": "python",
   "nbconvert_exporter": "python",
   "pygments_lexer": "ipython3",
   "version": "3.11.9"
  }
 },
 "nbformat": 4,
 "nbformat_minor": 5
}
