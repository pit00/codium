{
 "cells": [
  {
   "cell_type": "code",
   "execution_count": null,
   "id": "e1fb4f8e",
   "metadata": {},
   "outputs": [],
   "source": [
    "\"\"\"https://projecteuler.net/problem=35\"\"\"\n",
    "\n",
    "from itertools import combinations\n",
    "\n",
    "\n",
    "def primes_below(n):\n",
    "    sieve = [True] * n\n",
    "    sieve[0:2] = [False, False]\n",
    "    for i in range(2, int(n**0.5) + 1):\n",
    "        if sieve[i]:\n",
    "            sieve[i*i:n:i] = [False] * len(range(i*i, n, i))\n",
    "    return [i for i, is_prime in enumerate(sieve) if is_prime]\n",
    "\n",
    "# primes = primes_below(int(10e5))\n",
    "# print(primes)\n",
    "\n",
    "def is_prime(n):\n",
    "    \"\"\"Return True if n is a prime number, else False.\"\"\"\n",
    "    print(n)\n",
    "    if n % 2 == 0:\n",
    "        return False\n",
    "    for i in range(3, int(n**0.5) + 1, 2):\n",
    "        if n % i == 0:\n",
    "            return False\n",
    "    return True\n",
    "\n",
    "\n",
    "def is_circular(number):\n",
    "    numb = str(number)\n",
    "    rotations = [int(numb[i:] + numb[:i]) for i in range(len(numb))]\n",
    "    print(rotations)\n",
    "    return(all(is_prime(r) for r in rotations))\n",
    "    # print(rotations)\n",
    "\n",
    "\n",
    "\n",
    "is_circular(197)\n",
    "is_circular(13)\n",
    "is_circular(977803)\n",
    "# circular(1e6)\n"
   ]
  }
 ],
 "metadata": {
  "kernelspec": {
   "display_name": "Python 3",
   "language": "python",
   "name": "python3"
  },
  "language_info": {
   "name": "python",
   "version": "3.11.9"
  }
 },
 "nbformat": 4,
 "nbformat_minor": 5
}
