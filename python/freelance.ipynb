{
 "cells": [
  {
   "cell_type": "code",
   "execution_count": 1,
   "id": "b81e92ae",
   "metadata": {},
   "outputs": [],
   "source": [
    "\"\"\"https://www.codewars.com/kata/66e03a09eeaad7e94d9f40a9\"\"\"\n",
    "\n",
    "\n",
    "def max_earning(earnings, k):\n",
    "    days = len(earnings)\n",
    "\n",
    "    # dp[i][j]: max earnings up to day i, with j consecutive work days\n",
    "    dp = [[0] * (k + 1) for _ in range(days + 1)]\n",
    "\n",
    "    for i in range(1, days + 1):\n",
    "        for j in range(1, k + 1):\n",
    "            if i >= j:\n",
    "                # Work j days ending at i-1, then take a break before that\n",
    "                dp[i][j] = max(dp[i][j], dp[i - j][0] + sum(earnings[i - j:i]))\n",
    "        # Take a break today\n",
    "        dp[i][0] = max(dp[i - 1])\n",
    "\n",
    "    return max(dp[days])"
   ]
  },
  {
   "cell_type": "code",
   "execution_count": 2,
   "id": "cd50418c",
   "metadata": {},
   "outputs": [],
   "source": [
    "assert max_earning([60, 70, 80, 40, 80, 90, 100, 20], 3) == 480"
   ]
  },
  {
   "cell_type": "code",
   "execution_count": 3,
   "id": "5e069ef9",
   "metadata": {},
   "outputs": [],
   "source": [
    "assert max_earning([45, 12, 78, 34, 56, 89, 23, 67, 91], 4) == 460"
   ]
  },
  {
   "cell_type": "code",
   "execution_count": 4,
   "id": "e64bca14",
   "metadata": {},
   "outputs": [],
   "source": [
    "assert max_earning([5, 3, 1, 8], 1) == 13"
   ]
  }
 ],
 "metadata": {
  "kernelspec": {
   "display_name": "Python 3",
   "language": "python",
   "name": "python3"
  },
  "language_info": {
   "codemirror_mode": {
    "name": "ipython",
    "version": 3
   },
   "file_extension": ".py",
   "mimetype": "text/x-python",
   "name": "python",
   "nbconvert_exporter": "python",
   "pygments_lexer": "ipython3",
   "version": "3.11.9"
  }
 },
 "nbformat": 4,
 "nbformat_minor": 5
}
