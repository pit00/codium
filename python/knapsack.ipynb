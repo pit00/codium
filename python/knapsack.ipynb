{
 "cells": [
  {
   "cell_type": "code",
   "execution_count": null,
   "id": "cc224f7a",
   "metadata": {},
   "outputs": [],
   "source": [
    "\"\"\"https://exercism.org/tracks/python/exercises/knapsack\"\"\"\n",
    "\n",
    "def maximum_value(limit, itens):\n",
    "    return True"
   ]
  },
  {
   "cell_type": "code",
   "execution_count": null,
   "id": "512d89e3",
   "metadata": {},
   "outputs": [],
   "source": [
    "assert maximum_value(100, []) == 0"
   ]
  },
  {
   "cell_type": "code",
   "execution_count": null,
   "id": "035c0cc8",
   "metadata": {},
   "outputs": [],
   "source": [
    "assert maximum_value(10, [{\"weight\": 100, \"value\": 1}]) == 0"
   ]
  },
  {
   "cell_type": "code",
   "execution_count": null,
   "id": "be8084bb",
   "metadata": {},
   "outputs": [],
   "source": [
    "assert maximum_value(10,[\n",
    "    {\"weight\": 2, \"value\": 5},\n",
    "    {\"weight\": 2, \"value\": 5},\n",
    "    {\"weight\": 2, \"value\": 5},\n",
    "    {\"weight\": 2, \"value\": 5},\n",
    "    {\"weight\": 10, \"value\": 21},\n",
    "]) == 21"
   ]
  },
  {
   "cell_type": "code",
   "execution_count": null,
   "id": "7c8a8b75",
   "metadata": {},
   "outputs": [],
   "source": [
    "assert maximum_value(10,[\n",
    "    {\"weight\": 2, \"value\": 20},\n",
    "    {\"weight\": 2, \"value\": 20},\n",
    "    {\"weight\": 2, \"value\": 20},\n",
    "    {\"weight\": 2, \"value\": 20},\n",
    "    {\"weight\": 10, \"value\": 50},\n",
    "]) == 80"
   ]
  },
  {
   "cell_type": "code",
   "execution_count": null,
   "id": "f2243a6b",
   "metadata": {},
   "outputs": [],
   "source": [
    "assert maximum_value(10,[\n",
    "    {\"weight\": 5, \"value\": 10},\n",
    "    {\"weight\": 4, \"value\": 40},\n",
    "    {\"weight\": 6, \"value\": 30},\n",
    "    {\"weight\": 4, \"value\": 50},\n",
    "]) == 90"
   ]
  },
  {
   "cell_type": "code",
   "execution_count": null,
   "id": "0f49c3d3",
   "metadata": {},
   "outputs": [],
   "source": [
    "assert maximum_value(104,[\n",
    "    {\"weight\": 25, \"value\": 350},\n",
    "    {\"weight\": 35, \"value\": 400},\n",
    "    {\"weight\": 45, \"value\": 450},\n",
    "    {\"weight\": 5, \"value\": 20},\n",
    "    {\"weight\": 25, \"value\": 70},\n",
    "    {\"weight\": 3, \"value\": 8},\n",
    "    {\"weight\": 2, \"value\": 5},\n",
    "    {\"weight\": 2, \"value\": 5},\n",
    "]) == 900"
   ]
  },
  {
   "cell_type": "code",
   "execution_count": null,
   "id": "20d253cf",
   "metadata": {},
   "outputs": [],
   "source": [
    "assert maximum_value(750,[\n",
    "    {\"weight\": 70, \"value\": 135},\n",
    "    {\"weight\": 73, \"value\": 139},\n",
    "    {\"weight\": 77, \"value\": 149},\n",
    "    {\"weight\": 80, \"value\": 150},\n",
    "    {\"weight\": 82, \"value\": 156},\n",
    "    {\"weight\": 87, \"value\": 163},\n",
    "    {\"weight\": 90, \"value\": 173},\n",
    "    {\"weight\": 94, \"value\": 184},\n",
    "    {\"weight\": 98, \"value\": 192},\n",
    "    {\"weight\": 106, \"value\": 201},\n",
    "    {\"weight\": 110, \"value\": 210},\n",
    "    {\"weight\": 113, \"value\": 214},\n",
    "    {\"weight\": 115, \"value\": 221},\n",
    "    {\"weight\": 118, \"value\": 229},\n",
    "    {\"weight\": 120, \"value\": 240},\n",
    "]) == 1458"
   ]
  }
 ],
 "metadata": {
  "kernelspec": {
   "display_name": "Python 3",
   "language": "python",
   "name": "python3"
  },
  "language_info": {
   "name": "python",
   "version": "3.11.9"
  }
 },
 "nbformat": 4,
 "nbformat_minor": 5
}
