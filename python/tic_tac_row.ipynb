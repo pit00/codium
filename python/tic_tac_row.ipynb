{
 "cells": [
  {
   "cell_type": "code",
   "execution_count": 24,
   "id": "d00b4b64",
   "metadata": {},
   "outputs": [],
   "source": [
    "\"\"\"https://www.codewars.com/kata/67fbd1c105b5721c8011d44b\"\"\"\n",
    "\n",
    "\n",
    "def is_row_winner(table) -> bool:\n",
    "    \"\"\"Check if row is winner \"\"\"\n",
    "    for i in range(0, len(table), 3):\n",
    "        row = \"\".join(table[i:i+3])\n",
    "        if row in (\"XXX\", \"OOO\"):\n",
    "            return True\n",
    "    return False"
   ]
  },
  {
   "cell_type": "code",
   "execution_count": 25,
   "id": "4bf22579",
   "metadata": {},
   "outputs": [
    {
     "data": {
      "text/plain": [
       "True"
      ]
     },
     "execution_count": 25,
     "metadata": {},
     "output_type": "execute_result"
    }
   ],
   "source": [
    "is_row_winner([\"X\", \"X\", \"X\", \"O\", \"O\", \".\", \".\", \".\", \".\"])  # True"
   ]
  },
  {
   "cell_type": "code",
   "execution_count": 26,
   "id": "4e72d858",
   "metadata": {},
   "outputs": [
    {
     "data": {
      "text/plain": [
       "True"
      ]
     },
     "execution_count": 26,
     "metadata": {},
     "output_type": "execute_result"
    }
   ],
   "source": [
    "is_row_winner([\"X\", \"O\", \"X\", \"O\", \"O\", \"O\", \"X\", \".\", \"X\"])  # True"
   ]
  },
  {
   "cell_type": "code",
   "execution_count": 27,
   "id": "f75e8736",
   "metadata": {},
   "outputs": [
    {
     "data": {
      "text/plain": [
       "False"
      ]
     },
     "execution_count": 27,
     "metadata": {},
     "output_type": "execute_result"
    }
   ],
   "source": [
    "is_row_winner([\"X\", \"O\", \".\", \".\", \"X\", \"O\", \".\", \".\", \"X\"])  # False"
   ]
  }
 ],
 "metadata": {
  "kernelspec": {
   "display_name": "Python 3",
   "language": "python",
   "name": "python3"
  },
  "language_info": {
   "codemirror_mode": {
    "name": "ipython",
    "version": 3
   },
   "file_extension": ".py",
   "mimetype": "text/x-python",
   "name": "python",
   "nbconvert_exporter": "python",
   "pygments_lexer": "ipython3",
   "version": "3.11.9"
  }
 },
 "nbformat": 4,
 "nbformat_minor": 5
}
