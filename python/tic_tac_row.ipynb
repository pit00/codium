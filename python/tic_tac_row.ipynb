{
 "cells": [
  {
   "cell_type": "code",
   "execution_count": 13,
   "id": "d00b4b64",
   "metadata": {},
   "outputs": [],
   "source": [
    "\"\"\"https://www.codewars.com/kata/67fbd1c105b5721c8011d44b\"\"\"\n",
    "\n",
    "\n",
    "def is_row_winner(table) -> bool:\n",
    "    \"\"\"Check if row is winner \"\"\"\n",
    "    win = 0\n",
    "    for i in range(0, len(table), 3):\n",
    "        row = \"\".join(table[i:i+3])\n",
    "        if row in (\"XXX\", \"OOO\"):\n",
    "            win += 1\n",
    "    if win != 1:\n",
    "        return False\n",
    "    return True"
   ]
  },
  {
   "cell_type": "code",
   "execution_count": 14,
   "id": "4bf22579",
   "metadata": {},
   "outputs": [],
   "source": [
    "assert is_row_winner([\"X\", \"X\", \"X\", \"O\", \"O\", \".\", \".\", \".\", \".\"])  # True"
   ]
  },
  {
   "cell_type": "code",
   "execution_count": 15,
   "id": "4e72d858",
   "metadata": {},
   "outputs": [],
   "source": [
    "assert is_row_winner([\"X\", \"O\", \"X\", \"O\", \"O\", \"O\", \"X\", \".\", \"X\"])  # True"
   ]
  },
  {
   "cell_type": "code",
   "execution_count": 16,
   "id": "f75e8736",
   "metadata": {},
   "outputs": [],
   "source": [
    "assert not is_row_winner([\"X\", \"O\", \".\", \".\", \"X\", \"O\", \".\", \".\", \"X\"])  # False"
   ]
  },
  {
   "cell_type": "code",
   "execution_count": 17,
   "id": "cbe1b5df",
   "metadata": {},
   "outputs": [],
   "source": [
    "assert not is_row_winner([\"X\", \"X\", \"X\", \"O\", \"O\", \"O\", \".\", \".\", \"X\"])"
   ]
  }
 ],
 "metadata": {
  "kernelspec": {
   "display_name": "Python 3",
   "language": "python",
   "name": "python3"
  },
  "language_info": {
   "codemirror_mode": {
    "name": "ipython",
    "version": 3
   },
   "file_extension": ".py",
   "mimetype": "text/x-python",
   "name": "python",
   "nbconvert_exporter": "python",
   "pygments_lexer": "ipython3",
   "version": "3.11.9"
  }
 },
 "nbformat": 4,
 "nbformat_minor": 5
}
