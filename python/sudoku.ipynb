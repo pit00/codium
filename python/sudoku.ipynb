{
 "cells": [
  {
   "cell_type": "code",
   "execution_count": 1,
   "id": "19260b53",
   "metadata": {},
   "outputs": [],
   "source": [
    "\"\"\"https://exercism.org/tracks/r/exercises/killer-sudoku-helper\"\"\"\n",
    "\n",
    "from itertools import combinations\n",
    "\n",
    "\n",
    "def solver(size, goal_sum, exclude=[]) -> list:\n",
    "    \"\"\"Solve cage for killer sudoku\"\"\"\n",
    "    total = goal_sum\n",
    "    if goal_sum > 9:\n",
    "        total = 10\n",
    "\n",
    "    numbs = list(range(1, total))\n",
    "    # get combinations that equal to the sum\n",
    "    result = [c for c in combinations(numbs, size) if sum(c) == goal_sum]\n",
    "    result = [c for c in result if not any(x in exclude for x in c)]  # exclusions\n",
    "\n",
    "    return result"
   ]
  },
  {
   "cell_type": "code",
   "execution_count": 2,
   "id": "334ab8fa",
   "metadata": {},
   "outputs": [],
   "source": [
    "assert solver(9, 45) == [(1, 2, 3, 4, 5, 6, 7, 8, 9)]\n"
   ]
  },
  {
   "cell_type": "code",
   "execution_count": 3,
   "id": "eb97208f",
   "metadata": {},
   "outputs": [],
   "source": [
    "assert solver(3, 7) == [(1, 2, 4)]"
   ]
  },
  {
   "cell_type": "code",
   "execution_count": 4,
   "id": "87400ea5",
   "metadata": {},
   "outputs": [],
   "source": [
    "assert solver(2, 10) == [(1, 9), (2, 8), (3, 7), (4, 6)]"
   ]
  },
  {
   "cell_type": "code",
   "execution_count": 5,
   "id": "5b7d17f5",
   "metadata": {},
   "outputs": [],
   "source": [
    "assert solver(2, 10, [1, 4]) == [(2, 8), (3, 7)]"
   ]
  }
 ],
 "metadata": {
  "kernelspec": {
   "display_name": "Python 3",
   "language": "python",
   "name": "python3"
  },
  "language_info": {
   "codemirror_mode": {
    "name": "ipython",
    "version": 3
   },
   "file_extension": ".py",
   "mimetype": "text/x-python",
   "name": "python",
   "nbconvert_exporter": "python",
   "pygments_lexer": "ipython3",
   "version": "3.11.9"
  }
 },
 "nbformat": 4,
 "nbformat_minor": 5
}
